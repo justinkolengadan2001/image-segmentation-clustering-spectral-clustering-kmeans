{
 "cells": [
  {
   "cell_type": "code",
   "execution_count": 2,
   "id": "d69a5763-19e2-4b18-ba62-2504603edbf6",
   "metadata": {},
   "outputs": [
    {
     "name": "stdout",
     "output_type": "stream",
     "text": [
      "Starting preprocessing of CIFAR-10 images...\n"
     ]
    },
    {
     "name": "stderr",
     "output_type": "stream",
     "text": [
      "100%|███████████████████████████████████████████████████████████████████████████████| 170M/170M [00:16<00:00, 10.7MB/s]\n"
     ]
    },
    {
     "name": "stdout",
     "output_type": "stream",
     "text": [
      "Resizing and converting color spaces...\n",
      "Saving processed arrays and labels to 'data/' folder...\n",
      "All preprocessing complete and data saved.\n"
     ]
    }
   ],
   "source": [
    "import os\n",
    "import numpy as np\n",
    "import pickle\n",
    "from torchvision.datasets import CIFAR10\n",
    "import torchvision.transforms as transforms\n",
    "from PIL import Image\n",
    "import cv2\n",
    "\n",
    "def load_cifar10_images(target_classes, max_per_class=10):\n",
    "    \"\"\"\n",
    "    Loads CIFAR-10 images and labels for specified classes.\n",
    "    \"\"\"\n",
    "    transform = transforms.ToTensor()\n",
    "    dataset = CIFAR10(root='./data', train=True, download=True, transform=transform)\n",
    "    class_indices = {name: idx for idx, name in enumerate(dataset.classes)}\n",
    "    selected_indices = {name: [] for name in target_classes}\n",
    "\n",
    "    for i, (img, label) in enumerate(dataset):\n",
    "        for cls in target_classes:\n",
    "            if label == class_indices[cls] and len(selected_indices[cls]) < max_per_class:\n",
    "                selected_indices[cls].append(i)\n",
    "        if all(len(lst) == max_per_class for lst in selected_indices.values()):\n",
    "            break\n",
    "\n",
    "    selected_imgs = []\n",
    "    selected_labels = []\n",
    "\n",
    "    for cls, indices in selected_indices.items():\n",
    "        for idx in indices:\n",
    "            img, label = dataset[idx]\n",
    "            selected_imgs.append(img.numpy().transpose(1, 2, 0))  # CHW → HWC\n",
    "            selected_labels.append(label)\n",
    "\n",
    "    return selected_imgs, selected_labels\n",
    "\n",
    "\n",
    "def resize_and_convert_color_spaces(imgs, size=(32, 32)):\n",
    "    \"\"\"\n",
    "    Resize images using bicubic interpolation and convert them into\n",
    "    RGB, HSV, LAB, YCrCb flattened feature arrays.\n",
    "    \"\"\"\n",
    "    bicubic_imgs = []\n",
    "\n",
    "    for img in imgs:\n",
    "        img_resized = Image.fromarray((img * 255).astype(np.uint8)).resize(size, Image.BICUBIC)\n",
    "        bicubic_imgs.append(np.array(img_resized))\n",
    "\n",
    "    X_rgb = np.array(bicubic_imgs).reshape(len(bicubic_imgs), -1)\n",
    "\n",
    "    hsv_imgs = [cv2.cvtColor(img, cv2.COLOR_RGB2HSV) for img in bicubic_imgs]\n",
    "    X_hsv = np.array(hsv_imgs).reshape(len(hsv_imgs), -1)\n",
    "\n",
    "    lab_imgs = [cv2.cvtColor(img, cv2.COLOR_RGB2LAB) for img in bicubic_imgs]\n",
    "    X_lab = np.array(lab_imgs).reshape(len(lab_imgs), -1)\n",
    "\n",
    "    ycrcb_imgs = [cv2.cvtColor(img, cv2.COLOR_RGB2YCrCb) for img in bicubic_imgs]\n",
    "    X_ycrcb = np.array(ycrcb_imgs).reshape(len(ycrcb_imgs), -1)\n",
    "\n",
    "    return bicubic_imgs, X_rgb, X_hsv, X_lab, X_ycrcb\n",
    "\n",
    "\n",
    "def save_data(bicubic_imgs, labels, X_rgb, X_hsv, X_lab, X_ycrcb, out_dir=\"data\"):\n",
    "    \"\"\"\n",
    "    Saves processed data to disk.\n",
    "    \"\"\"\n",
    "    os.makedirs(out_dir, exist_ok=True)\n",
    "\n",
    "    # Save resized RGB images\n",
    "    with open(os.path.join(out_dir, \"bicubic_imgs.pkl\"), \"wb\") as f:\n",
    "        pickle.dump(bicubic_imgs, f)\n",
    "\n",
    "    # Save image class labels\n",
    "    np.save(os.path.join(out_dir, \"selected_labels.npy\"), np.array(labels))\n",
    "\n",
    "    # Save flattened features\n",
    "    np.save(os.path.join(out_dir, \"X_rgb.npy\"), X_rgb)\n",
    "    np.save(os.path.join(out_dir, \"X_hsv.npy\"), X_hsv)\n",
    "    np.save(os.path.join(out_dir, \"X_lab.npy\"), X_lab)\n",
    "    np.save(os.path.join(out_dir, \"X_ycrcb.npy\"), X_ycrcb)\n",
    "\n",
    "\n",
    "def main():\n",
    "    print(\"Starting preprocessing of CIFAR-10 images...\")\n",
    "    target_classes = ['horse', 'deer', 'airplane']\n",
    "    selected_imgs, selected_labels = load_cifar10_images(target_classes, max_per_class=10)\n",
    "\n",
    "    print(\"Resizing and converting color spaces...\")\n",
    "    bicubic_imgs, X_rgb, X_hsv, X_lab, X_ycrcb = resize_and_convert_color_spaces(selected_imgs)\n",
    "\n",
    "    print(\"Saving processed arrays and labels to 'data/' folder...\")\n",
    "    save_data(bicubic_imgs, selected_labels, X_rgb, X_hsv, X_lab, X_ycrcb)\n",
    "\n",
    "    print(\"All preprocessing complete and data saved.\")\n",
    "\n",
    "\n",
    "if __name__ == \"__main__\":\n",
    "    main()"
   ]
  },
  {
   "cell_type": "code",
   "execution_count": null,
   "id": "61823b40-724e-4b32-b7a9-61fc69652ec4",
   "metadata": {},
   "outputs": [],
   "source": []
  }
 ],
 "metadata": {
  "kernelspec": {
   "display_name": "Python 3 (ipykernel)",
   "language": "python",
   "name": "python3"
  },
  "language_info": {
   "codemirror_mode": {
    "name": "ipython",
    "version": 3
   },
   "file_extension": ".py",
   "mimetype": "text/x-python",
   "name": "python",
   "nbconvert_exporter": "python",
   "pygments_lexer": "ipython3",
   "version": "3.12.5"
  }
 },
 "nbformat": 4,
 "nbformat_minor": 5
}
